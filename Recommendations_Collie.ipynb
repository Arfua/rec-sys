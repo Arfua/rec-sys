{
 "cells": [
  {
   "cell_type": "markdown",
   "id": "703a00e8-ae51-4a10-8811-e3b54db4e7ff",
   "metadata": {},
   "source": [
    "# Recommender models"
   ]
  },
  {
   "cell_type": "markdown",
   "id": "2dd11ffd-60b6-477a-bd79-17734989d745",
   "metadata": {},
   "source": [
    "**Framework**: [Collie](https://github.com/ShopRunner/collie)\n",
    "\n",
    "**Models**:\n",
    "- implicit feedback:\n",
    "    - MatrixFactorization\n",
    "    - NeuralCollaborativeFiltering\n",
    "    - Hybrid (item metadata support)\n",
    "    - ColdStartHybrid (item cold start support)\n",
    "- explicit feedback:\n",
    "    - MatrixFactorization\n",
    "    \n",
    "**Evaluation Metrics**:\n",
    "- implicit feedback:\n",
    "    - MAP@10\n",
    "        <img src=\"images/mapk_explained.png\" width=\"300\">\n",
    "\n",
    "        <img src=\"images/mapk.png\" width=\"200\">\n",
    "    - MRR\n",
    "        <img src=\"images/mrr.png\" width=\"350\">\n",
    "    - AUC - [detailed explanation](https://developers.google.com/machine-learning/crash-course/classification/roc-and-auc)\n",
    "\n",
    "- explicit feedback:\n",
    "     - <img src=\"images/mse.png\" width=\"200\">\n",
    "     - <img src=\"images/mae.png\" width=\"200\">"
   ]
  },
  {
   "cell_type": "code",
   "execution_count": 1,
   "id": "fdacac10-6d98-453d-8103-4918c15e46d0",
   "metadata": {},
   "outputs": [],
   "source": [
    "import os\n",
    "\n",
    "import numpy as np\n",
    "import pandas as pd\n",
    "from pytorch_lightning.utilities.seed import seed_everything\n",
    "from IPython.display import HTML\n",
    "import torch\n",
    "import torchmetrics\n",
    "from collie.cross_validation import stratified_split\n",
    "from collie.interactions import Interactions, ExplicitInteractions\n",
    "from collie.utils import convert_to_implicit, remove_users_with_fewer_than_n_interactions\n",
    "from collie.metrics import evaluate_in_batches, explicit_evaluate_in_batches\n",
    "from collie.model import (\n",
    "    CollieTrainer, HybridModel, MatrixFactorizationModel, NeuralCollaborativeFiltering, ColdStartModel)\n",
    "from collie.movielens import (\n",
    "    get_movielens_metadata, get_recommendation_visualizations, read_movielens_df, read_movielens_df_item)\n",
    "\n",
    "from metrics import mapk, mrr, auc\n",
    "from utils import train_multi_stage_model, evaluate_explicit"
   ]
  },
  {
   "cell_type": "markdown",
   "id": "9546df9f-4616-4966-9f93-3ca229011178",
   "metadata": {},
   "source": [
    "### get MovieLens 100k data"
   ]
  },
  {
   "cell_type": "code",
   "execution_count": 2,
   "id": "a1a57d42-0960-4d02-a496-5a556a9e49cd",
   "metadata": {},
   "outputs": [],
   "source": [
    "df = read_movielens_df(decrement_ids=True)"
   ]
  },
  {
   "cell_type": "code",
   "execution_count": 3,
   "id": "e3b91304-bb1b-4f82-8f51-fb19211e0659",
   "metadata": {},
   "outputs": [
    {
     "data": {
      "text/html": [
       "<div>\n",
       "<style scoped>\n",
       "    .dataframe tbody tr th:only-of-type {\n",
       "        vertical-align: middle;\n",
       "    }\n",
       "\n",
       "    .dataframe tbody tr th {\n",
       "        vertical-align: top;\n",
       "    }\n",
       "\n",
       "    .dataframe thead th {\n",
       "        text-align: right;\n",
       "    }\n",
       "</style>\n",
       "<table border=\"1\" class=\"dataframe\">\n",
       "  <thead>\n",
       "    <tr style=\"text-align: right;\">\n",
       "      <th></th>\n",
       "      <th>user_id</th>\n",
       "      <th>item_id</th>\n",
       "      <th>rating</th>\n",
       "      <th>timestamp</th>\n",
       "    </tr>\n",
       "  </thead>\n",
       "  <tbody>\n",
       "    <tr>\n",
       "      <th>0</th>\n",
       "      <td>195</td>\n",
       "      <td>241</td>\n",
       "      <td>3</td>\n",
       "      <td>881250949</td>\n",
       "    </tr>\n",
       "    <tr>\n",
       "      <th>1</th>\n",
       "      <td>185</td>\n",
       "      <td>301</td>\n",
       "      <td>3</td>\n",
       "      <td>891717742</td>\n",
       "    </tr>\n",
       "    <tr>\n",
       "      <th>2</th>\n",
       "      <td>21</td>\n",
       "      <td>376</td>\n",
       "      <td>1</td>\n",
       "      <td>878887116</td>\n",
       "    </tr>\n",
       "    <tr>\n",
       "      <th>3</th>\n",
       "      <td>243</td>\n",
       "      <td>50</td>\n",
       "      <td>2</td>\n",
       "      <td>880606923</td>\n",
       "    </tr>\n",
       "    <tr>\n",
       "      <th>4</th>\n",
       "      <td>165</td>\n",
       "      <td>345</td>\n",
       "      <td>1</td>\n",
       "      <td>886397596</td>\n",
       "    </tr>\n",
       "  </tbody>\n",
       "</table>\n",
       "</div>"
      ],
      "text/plain": [
       "   user_id  item_id  rating  timestamp\n",
       "0      195      241       3  881250949\n",
       "1      185      301       3  891717742\n",
       "2       21      376       1  878887116\n",
       "3      243       50       2  880606923\n",
       "4      165      345       1  886397596"
      ]
     },
     "execution_count": 3,
     "metadata": {},
     "output_type": "execute_result"
    }
   ],
   "source": [
    "df.head()"
   ]
  },
  {
   "cell_type": "code",
   "execution_count": 4,
   "id": "02094c4a-e412-43c9-8287-a098e37d1766",
   "metadata": {},
   "outputs": [],
   "source": [
    "implicit_df = convert_to_implicit(df, min_rating_to_keep=4)\n",
    "implicit_df = remove_users_with_fewer_than_n_interactions(implicit_df, min_num_of_interactions=3)"
   ]
  },
  {
   "cell_type": "code",
   "execution_count": 5,
   "id": "791e5e63-7ca3-4e75-bbdc-ce3549e316bd",
   "metadata": {},
   "outputs": [
    {
     "data": {
      "text/html": [
       "<div>\n",
       "<style scoped>\n",
       "    .dataframe tbody tr th:only-of-type {\n",
       "        vertical-align: middle;\n",
       "    }\n",
       "\n",
       "    .dataframe tbody tr th {\n",
       "        vertical-align: top;\n",
       "    }\n",
       "\n",
       "    .dataframe thead th {\n",
       "        text-align: right;\n",
       "    }\n",
       "</style>\n",
       "<table border=\"1\" class=\"dataframe\">\n",
       "  <thead>\n",
       "    <tr style=\"text-align: right;\">\n",
       "      <th></th>\n",
       "      <th>user_id</th>\n",
       "      <th>item_id</th>\n",
       "      <th>rating</th>\n",
       "      <th>timestamp</th>\n",
       "    </tr>\n",
       "  </thead>\n",
       "  <tbody>\n",
       "    <tr>\n",
       "      <th>0</th>\n",
       "      <td>696</td>\n",
       "      <td>324</td>\n",
       "      <td>1</td>\n",
       "      <td>882621673</td>\n",
       "    </tr>\n",
       "    <tr>\n",
       "      <th>1</th>\n",
       "      <td>665</td>\n",
       "      <td>161</td>\n",
       "      <td>1</td>\n",
       "      <td>880568662</td>\n",
       "    </tr>\n",
       "    <tr>\n",
       "      <th>2</th>\n",
       "      <td>395</td>\n",
       "      <td>1024</td>\n",
       "      <td>1</td>\n",
       "      <td>884645839</td>\n",
       "    </tr>\n",
       "    <tr>\n",
       "      <th>3</th>\n",
       "      <td>859</td>\n",
       "      <td>201</td>\n",
       "      <td>1</td>\n",
       "      <td>885990932</td>\n",
       "    </tr>\n",
       "    <tr>\n",
       "      <th>4</th>\n",
       "      <td>21</td>\n",
       "      <td>225</td>\n",
       "      <td>1</td>\n",
       "      <td>878888145</td>\n",
       "    </tr>\n",
       "  </tbody>\n",
       "</table>\n",
       "</div>"
      ],
      "text/plain": [
       "   user_id  item_id  rating  timestamp\n",
       "0      696      324       1  882621673\n",
       "1      665      161       1  880568662\n",
       "2      395     1024       1  884645839\n",
       "3      859      201       1  885990932\n",
       "4       21      225       1  878888145"
      ]
     },
     "execution_count": 5,
     "metadata": {},
     "output_type": "execute_result"
    }
   ],
   "source": [
    "implicit_df.head()"
   ]
  },
  {
   "cell_type": "code",
   "execution_count": 6,
   "id": "8464f45e-1149-43e0-9e62-6d997e4400d5",
   "metadata": {},
   "outputs": [
    {
     "name": "stdout",
     "output_type": "stream",
     "text": [
      "Checking for and removing duplicate user, item ID pairs...\n",
      "Checking ``num_negative_samples`` is valid...\n",
      "Maximum number of items a user has interacted with: 378\n",
      "Generating positive items set...\n",
      "Generating positive items set...\n",
      "Generating positive items set...\n"
     ]
    }
   ],
   "source": [
    "interactions = Interactions(\n",
    "    users=implicit_df[\"user_id\"],\n",
    "    items=implicit_df[\"item_id\"],\n",
    "    ratings=implicit_df[\"rating\"],\n",
    "    allow_missing_ids=True,\n",
    ")\n",
    "\n",
    "train_interactions, val_interactions = stratified_split(interactions, test_p=0.1, seed=42)"
   ]
  },
  {
   "cell_type": "code",
   "execution_count": 7,
   "id": "b0d1be49-86f3-4be7-9066-cfa879eda28d",
   "metadata": {},
   "outputs": [
    {
     "name": "stdout",
     "output_type": "stream",
     "text": [
      "Train: Interactions object with 49426 interactions between 943 users and 1674 items, returning 10 negative samples per interaction.\n",
      "Val:   Interactions object with 5949 interactions between 943 users and 1674 items, returning 10 negative samples per interaction.\n"
     ]
    }
   ],
   "source": [
    "print(\"Train:\", train_interactions)\n",
    "print(\"Val:  \", val_interactions)"
   ]
  },
  {
   "cell_type": "markdown",
   "id": "92dfd151-ca49-4592-940c-dac4cd7d52eb",
   "metadata": {},
   "source": [
    "## Matrix Factorization model"
   ]
  },
  {
   "cell_type": "markdown",
   "id": "98888e4d-66cf-4c01-8aa4-63c4e79d522a",
   "metadata": {},
   "source": [
    "<img src=\"images/matrix_factorization.png\" width=\"600\">"
   ]
  },
  {
   "cell_type": "code",
   "execution_count": 8,
   "id": "12962560-e141-4a10-9a70-8e5f248c639c",
   "metadata": {},
   "outputs": [
    {
     "name": "stderr",
     "output_type": "stream",
     "text": [
      "Global seed set to 2021\n"
     ]
    },
    {
     "data": {
      "text/plain": [
       "2021"
      ]
     },
     "execution_count": 8,
     "metadata": {},
     "output_type": "execute_result"
    }
   ],
   "source": [
    "seed_everything(2021)"
   ]
  },
  {
   "cell_type": "code",
   "execution_count": 9,
   "id": "e4ec91cd-f1da-4b33-ae7a-0bc87d90c8a8",
   "metadata": {
    "tags": []
   },
   "outputs": [
    {
     "data": {
      "text/plain": [
       "MatrixFactorizationModel(\n",
       "  (user_biases): ZeroEmbedding(943, 1)\n",
       "  (item_biases): ZeroEmbedding(1674, 1)\n",
       "  (user_embeddings): ScaledEmbedding(943, 10)\n",
       "  (item_embeddings): ScaledEmbedding(1674, 10)\n",
       "  (dropout): Dropout(p=0.0, inplace=False)\n",
       ")"
      ]
     },
     "execution_count": 9,
     "metadata": {},
     "output_type": "execute_result"
    }
   ],
   "source": [
    "mf_model = MatrixFactorizationModel(\n",
    "    train=train_interactions,\n",
    "    val=val_interactions,\n",
    "    embedding_dim=10,\n",
    "    lr=1e-2,\n",
    ")\n",
    "mf_model"
   ]
  },
  {
   "cell_type": "code",
   "execution_count": 10,
   "id": "08462971-2837-423c-ae16-8d79deb76b82",
   "metadata": {},
   "outputs": [
    {
     "name": "stderr",
     "output_type": "stream",
     "text": [
      "GPU available: False, used: False\n",
      "TPU available: False, using: 0 TPU cores\n",
      "IPU available: False, using: 0 IPUs\n",
      "\n",
      "  | Name            | Type            | Params\n",
      "----------------------------------------------------\n",
      "0 | user_biases     | ZeroEmbedding   | 943   \n",
      "1 | item_biases     | ZeroEmbedding   | 1.7 K \n",
      "2 | user_embeddings | ScaledEmbedding | 9.4 K \n",
      "3 | item_embeddings | ScaledEmbedding | 16.7 K\n",
      "4 | dropout         | Dropout         | 0     \n",
      "----------------------------------------------------\n",
      "28.8 K    Trainable params\n",
      "0         Non-trainable params\n",
      "28.8 K    Total params\n",
      "0.115     Total estimated model params size (MB)\n"
     ]
    },
    {
     "data": {
      "application/vnd.jupyter.widget-view+json": {
       "model_id": "",
       "version_major": 2,
       "version_minor": 0
      },
      "text/plain": [
       "Validation sanity check: 0it [00:00, ?it/s]"
      ]
     },
     "metadata": {},
     "output_type": "display_data"
    },
    {
     "name": "stderr",
     "output_type": "stream",
     "text": [
      "Global seed set to 2021\n"
     ]
    },
    {
     "data": {
      "application/vnd.jupyter.widget-view+json": {
       "model_id": "e9e163a9d09e4ee6a507efe30dce88ce",
       "version_major": 2,
       "version_minor": 0
      },
      "text/plain": [
       "Training: -1it [00:00, ?it/s]"
      ]
     },
     "metadata": {},
     "output_type": "display_data"
    },
    {
     "data": {
      "application/vnd.jupyter.widget-view+json": {
       "model_id": "",
       "version_major": 2,
       "version_minor": 0
      }
     },
     "metadata": {},
     "output_type": "display_data"
    },
    {
     "data": {
      "application/vnd.jupyter.widget-view+json": {
       "model_id": "",
       "version_major": 2,
       "version_minor": 0
      }
     },
     "metadata": {},
     "output_type": "display_data"
    },
    {
     "data": {
      "application/vnd.jupyter.widget-view+json": {
       "model_id": "",
       "version_major": 2,
       "version_minor": 0
      }
     },
     "metadata": {},
     "output_type": "display_data"
    },
    {
     "name": "stdout",
     "output_type": "stream",
     "text": [
      "Epoch     3: reducing learning rate of group 0 to 1.0000e-03.\n",
      "Epoch     3: reducing learning rate of group 0 to 1.0000e-03.\n"
     ]
    },
    {
     "data": {
      "application/vnd.jupyter.widget-view+json": {
       "model_id": "",
       "version_major": 2,
       "version_minor": 0
      }
     },
     "metadata": {},
     "output_type": "display_data"
    },
    {
     "data": {
      "application/vnd.jupyter.widget-view+json": {
       "model_id": "",
       "version_major": 2,
       "version_minor": 0
      }
     },
     "metadata": {},
     "output_type": "display_data"
    },
    {
     "name": "stdout",
     "output_type": "stream",
     "text": [
      "Epoch     5: reducing learning rate of group 0 to 1.0000e-04.\n",
      "Epoch     5: reducing learning rate of group 0 to 1.0000e-04.\n"
     ]
    }
   ],
   "source": [
    "mf_trainer = CollieTrainer(mf_model, max_epochs=5, deterministic=True, log_every_n_steps=40)\n",
    "mf_trainer.fit(mf_model)"
   ]
  },
  {
   "cell_type": "code",
   "execution_count": 11,
   "id": "11ea756b-40f1-4129-9906-2d0e9239fcc7",
   "metadata": {},
   "outputs": [
    {
     "data": {
      "application/vnd.jupyter.widget-view+json": {
       "model_id": "b681c7dee40343e7a3f0bb85d5ffee7d",
       "version_major": 2,
       "version_minor": 0
      },
      "text/plain": [
       "  0%|          | 0/48 [00:00<?, ?it/s]"
      ]
     },
     "metadata": {},
     "output_type": "display_data"
    },
    {
     "name": "stdout",
     "output_type": "stream",
     "text": [
      "MAP@10 Score: 0.045361127593681175\n",
      "MRR Score:    0.16595347326905358\n",
      "AUC Score:    0.9032740756204933\n"
     ]
    }
   ],
   "source": [
    "mf_model.eval()\n",
    "mapk_score, mrr_score, auc_score = evaluate_in_batches([mapk, mrr, auc], val_interactions, mf_model)\n",
    "\n",
    "print(f\"MAP@10 Score: {mapk_score}\")\n",
    "print(f\"MRR Score:    {mrr_score}\")\n",
    "print(f\"AUC Score:    {auc_score}\")"
   ]
  },
  {
   "cell_type": "code",
   "execution_count": 12,
   "id": "2873c2d6-5fc3-44b2-b85d-45885c746349",
   "metadata": {},
   "outputs": [
    {
     "data": {
      "text/html": [
       "<h3>User 100:</h3><table border=\"1\" class=\"dataframe\">\n",
       "  <thead>\n",
       "    <tr style=\"text-align: right;\">\n",
       "      <th></th>\n",
       "      <th>Liar Liar (1997)</th>\n",
       "      <th>Wag the Dog (1997)</th>\n",
       "      <th>Good Will Hunting (1997)</th>\n",
       "      <th>Seven Years in Tibet (1997)</th>\n",
       "      <th>Contact (1997)</th>\n",
       "      <th>Titanic (1997)</th>\n",
       "      <th>Peacemaker, The (1997)</th>\n",
       "      <th>Big Bang Theory, The (1994)</th>\n",
       "      <th>Amistad (1997)</th>\n",
       "      <th>Apostle, The (1997)</th>\n",
       "    </tr>\n",
       "  </thead>\n",
       "  <tbody>\n",
       "    <tr>\n",
       "      <th>Some loved films:</th>\n",
       "      <td><img src=\"https://m.media-amazon.com/images/M/MV5BYjZlYmJjYWYtZDM0NS00YmZlLWIyMTAtMDY5ZTNjZTgwMDhjXkEyXkFqcGdeQXVyMTQxNzMzNDI@.jpg\" width=500></td>\n",
       "      <td><img src=\"https://m.media-amazon.com/images/M/MV5BMzRkZDVkMDItYjk3Mi00NDkyLThmODUtYzhkN2EwZmE2ZTljXkEyXkFqcGdeQXVyMTQxNzMzNDI@.jpg\" width=500></td>\n",
       "      <td><img src=\"https://m.media-amazon.com/images/M/MV5BOTI0MzcxMTYtZDVkMy00NjY1LTgyMTYtZmUxN2M3NmQ2NWJhXkEyXkFqcGdeQXVyMTQxNzMzNDI@.jpg\" width=500></td>\n",
       "      <td><img src=\"https://m.media-amazon.com/images/M/MV5BYmM4ZDhhNmItMDEyZi00NDUyLTk3MzUtMzE5NTE1ZWM0N2UyXkEyXkFqcGdeQXVyNjUwNzk3NDc@.jpg\" width=500></td>\n",
       "      <td><img src=\"https://m.media-amazon.com/images/M/MV5BYWNkYmFiZjUtYmI3Ni00NzIwLTkxZjktN2ZkMjdhMzlkMDc3XkEyXkFqcGdeQXVyNDk3NzU2MTQ@.jpg\" width=500></td>\n",
       "      <td><img src=\"https://m.media-amazon.com/images/M/MV5BMDdmZGU3NDQtY2E5My00ZTliLWIzOTUtMTY4ZGI1YjdiNjk3XkEyXkFqcGdeQXVyNTA4NzY1MzY@.jpg\" width=500></td>\n",
       "      <td><img src=\"https://m.media-amazon.com/images/M/MV5BMjQ0OTNjOTMtYWU1MC00MWQwLTllMmMtNWZmYmE3NDY0ZTgxXkEyXkFqcGdeQXVyMTE2OTg4Mjg@.jpg\" width=500></td>\n",
       "      <td><img src=\"https://m.media-amazon.com/images/M/MV5BY2FmZTY5YTktOWRlYy00NmIyLWE0ZmQtZDg2YjlmMzczZDZiXkEyXkFqcGdeQXVyNjg4NzAyOTA@.jpg\" width=500></td>\n",
       "      <td><img src=\"https://m.media-amazon.com/images/M/MV5BODFmYjRmMmItMzA1OS00YTJmLTlmZTItYzI4NjAzNzMzYjc5XkEyXkFqcGdeQXVyNTUyMzE4Mzg@.jpg\" width=500></td>\n",
       "      <td><img src=\"https://m.media-amazon.com/images/M/MV5BNGRkMDZlNGUtMzVmMC00Y2UyLTg0YTYtMjAzZmQ2NmQyNjg1XkEyXkFqcGdeQXVyMTAwMzUyOTc@.jpg\" width=500></td>\n",
       "    </tr>\n",
       "  </tbody>\n",
       "</table><table border=\"1\" class=\"dataframe\">\n",
       "  <thead>\n",
       "    <tr style=\"text-align: right;\">\n",
       "      <th></th>\n",
       "      <th>English Patient, The (1996)</th>\n",
       "      <th>Scream (1996)</th>\n",
       "      <th>Game, The (1997)</th>\n",
       "      <th>Devil's Advocate, The (1997)</th>\n",
       "      <th>Boogie Nights (1997)</th>\n",
       "      <th>Chasing Amy (1997)</th>\n",
       "      <th>Ulee's Gold (1997)</th>\n",
       "      <th>Rainmaker, The (1997)</th>\n",
       "      <th>G.I. Jane (1997)</th>\n",
       "      <th>Kiss the Girls (1997)</th>\n",
       "    </tr>\n",
       "  </thead>\n",
       "  <tbody>\n",
       "    <tr>\n",
       "      <th>Recommended films:</th>\n",
       "      <td><img src=\"https://m.media-amazon.com/images/M/MV5BOTkxZTdkNTQtM2QwOS00NzRlLWEyMGItYTcxOTE4NTgyNGVhXkEyXkFqcGdeQXVyMTQxNzMzNDI@.jpg\" width=500></td>\n",
       "      <td><img src=\"https://m.media-amazon.com/images/M/MV5BMjA2NjU5MTg5OF5BMl5BanBnXkFtZTgwOTkyMzQxMDE@.jpg\" width=500></td>\n",
       "      <td><img src=\"https://m.media-amazon.com/images/M/MV5BZGVmMDNmYmEtNGQ2Mi00Y2ZhLThhZTYtYjE5YmQzMjZiZGMxXkEyXkFqcGdeQXVyNDk3NzU2MTQ@.jpg\" width=500></td>\n",
       "      <td><img src=\"https://m.media-amazon.com/images/M/MV5BM2M2MDJhMDgtMmJkYy00MTgzLTkyZTktODM5NzE1MWUyNDA4XkEyXkFqcGdeQXVyNTA4NzY1MzY@.jpg\" width=500></td>\n",
       "      <td><img src=\"https://m.media-amazon.com/images/M/MV5BY2E2YWYxY2QtZmJmZi00MjJlLWFiYWItZTk5Y2IyMWQ1ZThhXkEyXkFqcGdeQXVyMTMxODk2OTU@.jpg\" width=500></td>\n",
       "      <td><img src=\"https://m.media-amazon.com/images/M/MV5BZDM3MTg2MGUtZDM0MC00NzMwLWE5NjItOWFjNjA2M2I4YzgxXkEyXkFqcGdeQXVyMTQxNzMzNDI@.jpg\" width=500></td>\n",
       "      <td><img src=\"https://m.media-amazon.com/images/M/MV5BMjE4NjY3NzA0OF5BMl5BanBnXkFtZTcwMDQ3Mjg3NA@@.jpg\" width=500></td>\n",
       "      <td><img src=\"https://m.media-amazon.com/images/M/MV5BMjdlMjI2ZjgtN2ViOS00ZmI0LWE0ZTMtZjg1ZjczYWYzOGZjL2ltYWdlL2ltYWdlXkEyXkFqcGdeQXVyNjc1NTYyMjg@.jpg\" width=500></td>\n",
       "      <td><img src=\"https://m.media-amazon.com/images/M/MV5BYTJhOTY4M2EtNjA2Ny00YjBjLWE4MjItZjRiOTRhMGFjZmU4XkEyXkFqcGdeQXVyMTQxNzMzNDI@.jpg\" width=500></td>\n",
       "      <td><img src=\"https://m.media-amazon.com/images/M/MV5BMjE2MWE1ZDYtNjNkYS00YjZmLWJkZjctOTYzYTVjMDFiN2M5XkEyXkFqcGdeQXVyMTQxNzMzNDI@.jpg\" width=500></td>\n",
       "    </tr>\n",
       "  </tbody>\n",
       "</table>-----<p style=\"margin:0\">User 100 has rated <strong>22</strong> films with a 4 or 5</p><p style=\"margin:0\">User 100 has rated <strong>37</strong> films with a 1, 2, or 3</p><p style=\"margin:0\">% of these films rated 5 or 4 appearing in the first 10 recommendations:<strong style=\"color:green\">80.0%</strong></p><p style=\"margin:0\">% of these films rated 1, 2, or 3 appearing in the first 10 recommendations: <strong style=\"color:red\">20.0%</strong></p>"
      ],
      "text/plain": [
       "<IPython.core.display.HTML object>"
      ]
     },
     "metadata": {},
     "output_type": "display_data"
    }
   ],
   "source": [
    "user_id = 100\n",
    "\n",
    "parameters = {\"model\": mf_model, \"user_id\": user_id, \"filter_films\": True, \"shuffle\": True, \"detailed\": True}\n",
    "display(HTML(get_recommendation_visualizations(**parameters)))"
   ]
  },
  {
   "cell_type": "markdown",
   "id": "358bca0f-187d-43d8-936a-4385e4e2ee79",
   "metadata": {},
   "source": [
    "## Neural Collaborative Filtering"
   ]
  },
  {
   "cell_type": "code",
   "execution_count": 13,
   "id": "bb626887-154c-464d-9d04-493575da81a4",
   "metadata": {},
   "outputs": [
    {
     "data": {
      "text/plain": [
       "NeuralCollaborativeFiltering(\n",
       "  (user_embeddings_cf): ScaledEmbedding(943, 10)\n",
       "  (item_embeddings_cf): ScaledEmbedding(1674, 10)\n",
       "  (user_embeddings_mlp): ScaledEmbedding(943, 40)\n",
       "  (item_embeddings_mlp): ScaledEmbedding(1674, 40)\n",
       "  (mlp_layers): Sequential(\n",
       "    (0): Dropout(p=0.0, inplace=False)\n",
       "    (1): Linear(in_features=80, out_features=40, bias=True)\n",
       "    (2): ReLU()\n",
       "    (3): Dropout(p=0.0, inplace=False)\n",
       "    (4): Linear(in_features=40, out_features=20, bias=True)\n",
       "    (5): ReLU()\n",
       "    (6): Dropout(p=0.0, inplace=False)\n",
       "    (7): Linear(in_features=20, out_features=10, bias=True)\n",
       "    (8): ReLU()\n",
       "  )\n",
       "  (predict_layer): Linear(in_features=20, out_features=1, bias=True)\n",
       ")"
      ]
     },
     "execution_count": 13,
     "metadata": {},
     "output_type": "execute_result"
    }
   ],
   "source": [
    "ncf_model = NeuralCollaborativeFiltering(\n",
    "    train=train_interactions,\n",
    "    val=val_interactions,\n",
    "    embedding_dim=10,\n",
    "    lr=1e-2,\n",
    ")\n",
    "ncf_model"
   ]
  },
  {
   "cell_type": "code",
   "execution_count": 14,
   "id": "b539a7d9-898a-4fac-b313-4485b14d5876",
   "metadata": {},
   "outputs": [
    {
     "name": "stderr",
     "output_type": "stream",
     "text": [
      "GPU available: False, used: False\n",
      "TPU available: False, using: 0 TPU cores\n",
      "IPU available: False, using: 0 IPUs\n",
      "\n",
      "  | Name                | Type            | Params\n",
      "--------------------------------------------------------\n",
      "0 | user_embeddings_cf  | ScaledEmbedding | 9.4 K \n",
      "1 | item_embeddings_cf  | ScaledEmbedding | 16.7 K\n",
      "2 | user_embeddings_mlp | ScaledEmbedding | 37.7 K\n",
      "3 | item_embeddings_mlp | ScaledEmbedding | 67.0 K\n",
      "4 | mlp_layers          | Sequential      | 4.3 K \n",
      "5 | predict_layer       | Linear          | 21    \n",
      "--------------------------------------------------------\n",
      "135 K     Trainable params\n",
      "0         Non-trainable params\n",
      "135 K     Total params\n",
      "0.541     Total estimated model params size (MB)\n"
     ]
    },
    {
     "data": {
      "application/vnd.jupyter.widget-view+json": {
       "model_id": "",
       "version_major": 2,
       "version_minor": 0
      },
      "text/plain": [
       "Validation sanity check: 0it [00:00, ?it/s]"
      ]
     },
     "metadata": {},
     "output_type": "display_data"
    },
    {
     "name": "stderr",
     "output_type": "stream",
     "text": [
      "Global seed set to 2021\n"
     ]
    },
    {
     "data": {
      "application/vnd.jupyter.widget-view+json": {
       "model_id": "9cf6297d45294135bdf7a2e57a384f87",
       "version_major": 2,
       "version_minor": 0
      },
      "text/plain": [
       "Training: -1it [00:00, ?it/s]"
      ]
     },
     "metadata": {},
     "output_type": "display_data"
    },
    {
     "data": {
      "application/vnd.jupyter.widget-view+json": {
       "model_id": "",
       "version_major": 2,
       "version_minor": 0
      }
     },
     "metadata": {},
     "output_type": "display_data"
    },
    {
     "data": {
      "application/vnd.jupyter.widget-view+json": {
       "model_id": "",
       "version_major": 2,
       "version_minor": 0
      }
     },
     "metadata": {},
     "output_type": "display_data"
    },
    {
     "data": {
      "application/vnd.jupyter.widget-view+json": {
       "model_id": "",
       "version_major": 2,
       "version_minor": 0
      }
     },
     "metadata": {},
     "output_type": "display_data"
    },
    {
     "name": "stdout",
     "output_type": "stream",
     "text": [
      "Epoch     3: reducing learning rate of group 0 to 1.0000e-03.\n"
     ]
    },
    {
     "data": {
      "application/vnd.jupyter.widget-view+json": {
       "model_id": "",
       "version_major": 2,
       "version_minor": 0
      }
     },
     "metadata": {},
     "output_type": "display_data"
    },
    {
     "data": {
      "application/vnd.jupyter.widget-view+json": {
       "model_id": "",
       "version_major": 2,
       "version_minor": 0
      }
     },
     "metadata": {},
     "output_type": "display_data"
    },
    {
     "name": "stdout",
     "output_type": "stream",
     "text": [
      "Epoch     5: reducing learning rate of group 0 to 1.0000e-04.\n"
     ]
    }
   ],
   "source": [
    "ncf_trainer = CollieTrainer(ncf_model, max_epochs=5, deterministic=True, log_every_n_steps=40)\n",
    "ncf_trainer.fit(ncf_model)"
   ]
  },
  {
   "cell_type": "code",
   "execution_count": 15,
   "id": "9c0b29b8-849d-4122-8884-be59df23c301",
   "metadata": {},
   "outputs": [
    {
     "data": {
      "application/vnd.jupyter.widget-view+json": {
       "model_id": "e19b02ff60144bcbaaa37da6c8eef033",
       "version_major": 2,
       "version_minor": 0
      },
      "text/plain": [
       "  0%|          | 0/48 [00:00<?, ?it/s]"
      ]
     },
     "metadata": {},
     "output_type": "display_data"
    },
    {
     "name": "stdout",
     "output_type": "stream",
     "text": [
      "MAP@10 Score: 0.04282151476223107\n",
      "MRR Score:    0.16067300901418025\n",
      "AUC Score:    0.9033286978990915\n"
     ]
    }
   ],
   "source": [
    "ncf_model.eval()  # set model to inference mode\n",
    "mapk_score, mrr_score, auc_score = evaluate_in_batches([mapk, mrr, auc], val_interactions, ncf_model)\n",
    "\n",
    "print(f\"MAP@10 Score: {mapk_score}\")\n",
    "print(f\"MRR Score:    {mrr_score}\")\n",
    "print(f\"AUC Score:    {auc_score}\")"
   ]
  },
  {
   "cell_type": "code",
   "execution_count": 16,
   "id": "df9b48c6-e1d7-4277-af18-2256a7a35205",
   "metadata": {},
   "outputs": [
    {
     "data": {
      "text/html": [
       "<h3>User 100:</h3><table border=\"1\" class=\"dataframe\">\n",
       "  <thead>\n",
       "    <tr style=\"text-align: right;\">\n",
       "      <th></th>\n",
       "      <th>Liar Liar (1997)</th>\n",
       "      <th>Wag the Dog (1997)</th>\n",
       "      <th>Good Will Hunting (1997)</th>\n",
       "      <th>Seven Years in Tibet (1997)</th>\n",
       "      <th>Contact (1997)</th>\n",
       "      <th>Titanic (1997)</th>\n",
       "      <th>Peacemaker, The (1997)</th>\n",
       "      <th>Big Bang Theory, The (1994)</th>\n",
       "      <th>Amistad (1997)</th>\n",
       "      <th>Apostle, The (1997)</th>\n",
       "    </tr>\n",
       "  </thead>\n",
       "  <tbody>\n",
       "    <tr>\n",
       "      <th>Some loved films:</th>\n",
       "      <td><img src=\"https://m.media-amazon.com/images/M/MV5BYjZlYmJjYWYtZDM0NS00YmZlLWIyMTAtMDY5ZTNjZTgwMDhjXkEyXkFqcGdeQXVyMTQxNzMzNDI@.jpg\" width=500></td>\n",
       "      <td><img src=\"https://m.media-amazon.com/images/M/MV5BMzRkZDVkMDItYjk3Mi00NDkyLThmODUtYzhkN2EwZmE2ZTljXkEyXkFqcGdeQXVyMTQxNzMzNDI@.jpg\" width=500></td>\n",
       "      <td><img src=\"https://m.media-amazon.com/images/M/MV5BOTI0MzcxMTYtZDVkMy00NjY1LTgyMTYtZmUxN2M3NmQ2NWJhXkEyXkFqcGdeQXVyMTQxNzMzNDI@.jpg\" width=500></td>\n",
       "      <td><img src=\"https://m.media-amazon.com/images/M/MV5BYmM4ZDhhNmItMDEyZi00NDUyLTk3MzUtMzE5NTE1ZWM0N2UyXkEyXkFqcGdeQXVyNjUwNzk3NDc@.jpg\" width=500></td>\n",
       "      <td><img src=\"https://m.media-amazon.com/images/M/MV5BYWNkYmFiZjUtYmI3Ni00NzIwLTkxZjktN2ZkMjdhMzlkMDc3XkEyXkFqcGdeQXVyNDk3NzU2MTQ@.jpg\" width=500></td>\n",
       "      <td><img src=\"https://m.media-amazon.com/images/M/MV5BMDdmZGU3NDQtY2E5My00ZTliLWIzOTUtMTY4ZGI1YjdiNjk3XkEyXkFqcGdeQXVyNTA4NzY1MzY@.jpg\" width=500></td>\n",
       "      <td><img src=\"https://m.media-amazon.com/images/M/MV5BMjQ0OTNjOTMtYWU1MC00MWQwLTllMmMtNWZmYmE3NDY0ZTgxXkEyXkFqcGdeQXVyMTE2OTg4Mjg@.jpg\" width=500></td>\n",
       "      <td><img src=\"https://m.media-amazon.com/images/M/MV5BY2FmZTY5YTktOWRlYy00NmIyLWE0ZmQtZDg2YjlmMzczZDZiXkEyXkFqcGdeQXVyNjg4NzAyOTA@.jpg\" width=500></td>\n",
       "      <td><img src=\"https://m.media-amazon.com/images/M/MV5BODFmYjRmMmItMzA1OS00YTJmLTlmZTItYzI4NjAzNzMzYjc5XkEyXkFqcGdeQXVyNTUyMzE4Mzg@.jpg\" width=500></td>\n",
       "      <td><img src=\"https://m.media-amazon.com/images/M/MV5BNGRkMDZlNGUtMzVmMC00Y2UyLTg0YTYtMjAzZmQ2NmQyNjg1XkEyXkFqcGdeQXVyMTAwMzUyOTc@.jpg\" width=500></td>\n",
       "    </tr>\n",
       "  </tbody>\n",
       "</table><table border=\"1\" class=\"dataframe\">\n",
       "  <thead>\n",
       "    <tr style=\"text-align: right;\">\n",
       "      <th></th>\n",
       "      <th>Scream (1996)</th>\n",
       "      <th>English Patient, The (1996)</th>\n",
       "      <th>Devil's Advocate, The (1997)</th>\n",
       "      <th>Chasing Amy (1997)</th>\n",
       "      <th>Boogie Nights (1997)</th>\n",
       "      <th>Game, The (1997)</th>\n",
       "      <th>Ulee's Gold (1997)</th>\n",
       "      <th>In & Out (1997)</th>\n",
       "      <th>Cop Land (1997)</th>\n",
       "      <th>Rosewood (1997)</th>\n",
       "    </tr>\n",
       "  </thead>\n",
       "  <tbody>\n",
       "    <tr>\n",
       "      <th>Recommended films:</th>\n",
       "      <td><img src=\"https://m.media-amazon.com/images/M/MV5BMjA2NjU5MTg5OF5BMl5BanBnXkFtZTgwOTkyMzQxMDE@.jpg\" width=500></td>\n",
       "      <td><img src=\"https://m.media-amazon.com/images/M/MV5BOTkxZTdkNTQtM2QwOS00NzRlLWEyMGItYTcxOTE4NTgyNGVhXkEyXkFqcGdeQXVyMTQxNzMzNDI@.jpg\" width=500></td>\n",
       "      <td><img src=\"https://m.media-amazon.com/images/M/MV5BM2M2MDJhMDgtMmJkYy00MTgzLTkyZTktODM5NzE1MWUyNDA4XkEyXkFqcGdeQXVyNTA4NzY1MzY@.jpg\" width=500></td>\n",
       "      <td><img src=\"https://m.media-amazon.com/images/M/MV5BZDM3MTg2MGUtZDM0MC00NzMwLWE5NjItOWFjNjA2M2I4YzgxXkEyXkFqcGdeQXVyMTQxNzMzNDI@.jpg\" width=500></td>\n",
       "      <td><img src=\"https://m.media-amazon.com/images/M/MV5BY2E2YWYxY2QtZmJmZi00MjJlLWFiYWItZTk5Y2IyMWQ1ZThhXkEyXkFqcGdeQXVyMTMxODk2OTU@.jpg\" width=500></td>\n",
       "      <td><img src=\"https://m.media-amazon.com/images/M/MV5BZGVmMDNmYmEtNGQ2Mi00Y2ZhLThhZTYtYjE5YmQzMjZiZGMxXkEyXkFqcGdeQXVyNDk3NzU2MTQ@.jpg\" width=500></td>\n",
       "      <td><img src=\"https://m.media-amazon.com/images/M/MV5BMjE4NjY3NzA0OF5BMl5BanBnXkFtZTcwMDQ3Mjg3NA@@.jpg\" width=500></td>\n",
       "      <td><img src=\"https://m.media-amazon.com/images/M/MV5BNDZkMjVhZmItMmIyNC00OWYyLWFmZWQtMzIzZWZhY2QyMjZiXkEyXkFqcGdeQXVyMTQxNzMzNDI@.jpg\" width=500></td>\n",
       "      <td><img src=\"https://m.media-amazon.com/images/M/MV5BNmNhMzI0NmQtMzU1OS00NzQzLTg0NzctZDJkODZlMjU3OTc5XkEyXkFqcGdeQXVyNDc2NjEyMw@@.jpg\" width=500></td>\n",
       "      <td><img src=\"https://m.media-amazon.com/images/M/MV5BYWNmZGM3NjUtOTgzYi00YjVmLTk4NGYtNGQ1Y2MwZjBkN2I3XkEyXkFqcGdeQXVyMTQxNzMzNDI@.jpg\" width=500></td>\n",
       "    </tr>\n",
       "  </tbody>\n",
       "</table>-----<p style=\"margin:0\">User 100 has rated <strong>22</strong> films with a 4 or 5</p><p style=\"margin:0\">User 100 has rated <strong>37</strong> films with a 1, 2, or 3</p><p style=\"margin:0\">% of these films rated 5 or 4 appearing in the first 10 recommendations:<strong style=\"color:green\">60.0%</strong></p><p style=\"margin:0\">% of these films rated 1, 2, or 3 appearing in the first 10 recommendations: <strong style=\"color:red\">30.0%</strong></p>"
      ],
      "text/plain": [
       "<IPython.core.display.HTML object>"
      ]
     },
     "metadata": {},
     "output_type": "display_data"
    }
   ],
   "source": [
    "parameters = {\"model\": ncf_model, \"user_id\": user_id, \"filter_films\": True, \"shuffle\": True, \"detailed\": True}\n",
    "display(HTML(get_recommendation_visualizations(**parameters)))"
   ]
  },
  {
   "cell_type": "markdown",
   "id": "fe0b6a89-6e04-4d3f-a30e-884679f7628b",
   "metadata": {},
   "source": [
    "## Hybrid Multi Stage model\n",
    "#### this multi-stage model allows to incorporate item metadata in training processes and then find similar items"
   ]
  },
  {
   "cell_type": "code",
   "execution_count": 17,
   "id": "d5c23e09-1361-42cc-99fb-bb257cec4daf",
   "metadata": {},
   "outputs": [
    {
     "data": {
      "text/html": [
       "<div>\n",
       "<style scoped>\n",
       "    .dataframe tbody tr th:only-of-type {\n",
       "        vertical-align: middle;\n",
       "    }\n",
       "\n",
       "    .dataframe tbody tr th {\n",
       "        vertical-align: top;\n",
       "    }\n",
       "\n",
       "    .dataframe thead th {\n",
       "        text-align: right;\n",
       "    }\n",
       "</style>\n",
       "<table border=\"1\" class=\"dataframe\">\n",
       "  <thead>\n",
       "    <tr style=\"text-align: right;\">\n",
       "      <th></th>\n",
       "      <th>genre_action</th>\n",
       "      <th>genre_adventure</th>\n",
       "      <th>genre_animation</th>\n",
       "      <th>genre_children</th>\n",
       "      <th>genre_comedy</th>\n",
       "      <th>genre_crime</th>\n",
       "      <th>genre_documentary</th>\n",
       "      <th>genre_drama</th>\n",
       "      <th>genre_fantasy</th>\n",
       "      <th>genre_film_noir</th>\n",
       "      <th>...</th>\n",
       "      <th>genre_unknown</th>\n",
       "      <th>decade_unknown</th>\n",
       "      <th>decade_20</th>\n",
       "      <th>decade_30</th>\n",
       "      <th>decade_40</th>\n",
       "      <th>decade_50</th>\n",
       "      <th>decade_60</th>\n",
       "      <th>decade_70</th>\n",
       "      <th>decade_80</th>\n",
       "      <th>decade_90</th>\n",
       "    </tr>\n",
       "  </thead>\n",
       "  <tbody>\n",
       "    <tr>\n",
       "      <th>0</th>\n",
       "      <td>0</td>\n",
       "      <td>0</td>\n",
       "      <td>1</td>\n",
       "      <td>1</td>\n",
       "      <td>1</td>\n",
       "      <td>0</td>\n",
       "      <td>0</td>\n",
       "      <td>0</td>\n",
       "      <td>0</td>\n",
       "      <td>0</td>\n",
       "      <td>...</td>\n",
       "      <td>0</td>\n",
       "      <td>0</td>\n",
       "      <td>0</td>\n",
       "      <td>0</td>\n",
       "      <td>0</td>\n",
       "      <td>0</td>\n",
       "      <td>0</td>\n",
       "      <td>0</td>\n",
       "      <td>0</td>\n",
       "      <td>1</td>\n",
       "    </tr>\n",
       "    <tr>\n",
       "      <th>1</th>\n",
       "      <td>1</td>\n",
       "      <td>1</td>\n",
       "      <td>0</td>\n",
       "      <td>0</td>\n",
       "      <td>0</td>\n",
       "      <td>0</td>\n",
       "      <td>0</td>\n",
       "      <td>0</td>\n",
       "      <td>0</td>\n",
       "      <td>0</td>\n",
       "      <td>...</td>\n",
       "      <td>0</td>\n",
       "      <td>0</td>\n",
       "      <td>0</td>\n",
       "      <td>0</td>\n",
       "      <td>0</td>\n",
       "      <td>0</td>\n",
       "      <td>0</td>\n",
       "      <td>0</td>\n",
       "      <td>0</td>\n",
       "      <td>1</td>\n",
       "    </tr>\n",
       "    <tr>\n",
       "      <th>2</th>\n",
       "      <td>0</td>\n",
       "      <td>0</td>\n",
       "      <td>0</td>\n",
       "      <td>0</td>\n",
       "      <td>0</td>\n",
       "      <td>0</td>\n",
       "      <td>0</td>\n",
       "      <td>0</td>\n",
       "      <td>0</td>\n",
       "      <td>0</td>\n",
       "      <td>...</td>\n",
       "      <td>0</td>\n",
       "      <td>0</td>\n",
       "      <td>0</td>\n",
       "      <td>0</td>\n",
       "      <td>0</td>\n",
       "      <td>0</td>\n",
       "      <td>0</td>\n",
       "      <td>0</td>\n",
       "      <td>0</td>\n",
       "      <td>1</td>\n",
       "    </tr>\n",
       "    <tr>\n",
       "      <th>3</th>\n",
       "      <td>1</td>\n",
       "      <td>0</td>\n",
       "      <td>0</td>\n",
       "      <td>0</td>\n",
       "      <td>1</td>\n",
       "      <td>0</td>\n",
       "      <td>0</td>\n",
       "      <td>1</td>\n",
       "      <td>0</td>\n",
       "      <td>0</td>\n",
       "      <td>...</td>\n",
       "      <td>0</td>\n",
       "      <td>0</td>\n",
       "      <td>0</td>\n",
       "      <td>0</td>\n",
       "      <td>0</td>\n",
       "      <td>0</td>\n",
       "      <td>0</td>\n",
       "      <td>0</td>\n",
       "      <td>0</td>\n",
       "      <td>1</td>\n",
       "    </tr>\n",
       "    <tr>\n",
       "      <th>4</th>\n",
       "      <td>0</td>\n",
       "      <td>0</td>\n",
       "      <td>0</td>\n",
       "      <td>0</td>\n",
       "      <td>0</td>\n",
       "      <td>1</td>\n",
       "      <td>0</td>\n",
       "      <td>1</td>\n",
       "      <td>0</td>\n",
       "      <td>0</td>\n",
       "      <td>...</td>\n",
       "      <td>0</td>\n",
       "      <td>0</td>\n",
       "      <td>0</td>\n",
       "      <td>0</td>\n",
       "      <td>0</td>\n",
       "      <td>0</td>\n",
       "      <td>0</td>\n",
       "      <td>0</td>\n",
       "      <td>0</td>\n",
       "      <td>1</td>\n",
       "    </tr>\n",
       "  </tbody>\n",
       "</table>\n",
       "<p>5 rows × 28 columns</p>\n",
       "</div>"
      ],
      "text/plain": [
       "   genre_action  genre_adventure  genre_animation  genre_children  \\\n",
       "0             0                0                1               1   \n",
       "1             1                1                0               0   \n",
       "2             0                0                0               0   \n",
       "3             1                0                0               0   \n",
       "4             0                0                0               0   \n",
       "\n",
       "   genre_comedy  genre_crime  genre_documentary  genre_drama  genre_fantasy  \\\n",
       "0             1            0                  0            0              0   \n",
       "1             0            0                  0            0              0   \n",
       "2             0            0                  0            0              0   \n",
       "3             1            0                  0            1              0   \n",
       "4             0            1                  0            1              0   \n",
       "\n",
       "   genre_film_noir  ...  genre_unknown  decade_unknown  decade_20  decade_30  \\\n",
       "0                0  ...              0               0          0          0   \n",
       "1                0  ...              0               0          0          0   \n",
       "2                0  ...              0               0          0          0   \n",
       "3                0  ...              0               0          0          0   \n",
       "4                0  ...              0               0          0          0   \n",
       "\n",
       "   decade_40  decade_50  decade_60  decade_70  decade_80  decade_90  \n",
       "0          0          0          0          0          0          1  \n",
       "1          0          0          0          0          0          1  \n",
       "2          0          0          0          0          0          1  \n",
       "3          0          0          0          0          0          1  \n",
       "4          0          0          0          0          0          1  \n",
       "\n",
       "[5 rows x 28 columns]"
      ]
     },
     "execution_count": 17,
     "metadata": {},
     "output_type": "execute_result"
    }
   ],
   "source": [
    "metadata_df = get_movielens_metadata()\n",
    "metadata_df.head()"
   ]
  },
  {
   "cell_type": "code",
   "execution_count": 18,
   "id": "8c21c85c-6901-4ba1-a17e-9a5a890de4c2",
   "metadata": {},
   "outputs": [
    {
     "name": "stdout",
     "output_type": "stream",
     "text": [
      "Set ``self.hparams.stage`` to \"matrix_factorization\"\n"
     ]
    },
    {
     "data": {
      "text/plain": [
       "HybridModel(\n",
       "  (user_biases): ZeroEmbedding(943, 1)\n",
       "  (item_biases): ZeroEmbedding(1674, 1)\n",
       "  (user_embeddings): ScaledEmbedding(943, 10)\n",
       "  (item_embeddings): ScaledEmbedding(1674, 10)\n",
       "  (dropout): Dropout(p=0.0, inplace=False)\n",
       "  (metadata_layer_0): Linear(in_features=28, out_features=8, bias=True)\n",
       "  (combined_layer_0): Linear(in_features=28, out_features=16, bias=True)\n",
       "  (combined_layer_1): Linear(in_features=16, out_features=1, bias=True)\n",
       ")"
      ]
     },
     "metadata": {},
     "output_type": "display_data"
    }
   ],
   "source": [
    "hybrid_model = HybridModel(\n",
    "    train=train_interactions,\n",
    "    val=val_interactions,\n",
    "    item_metadata=metadata_df,\n",
    "    metadata_layers_dims=[8],\n",
    "    combined_layers_dims=[16],\n",
    "    embedding_dim=10,\n",
    "    lr=1e-2,  # used in stage 1\n",
    "    bias_lr=1e-1,  # used in stage 1\n",
    "    metadata_only_stage_lr=1e-3,  # used in stage 2\n",
    "    all_stage_lr=1e-4)  # used in stage 3 (the final stage)\n",
    "display(hybrid_model)"
   ]
  },
  {
   "cell_type": "code",
   "execution_count": 19,
   "id": "1916884f-37cb-41fb-a2c8-f5ede84fba9b",
   "metadata": {},
   "outputs": [
    {
     "name": "stderr",
     "output_type": "stream",
     "text": [
      "GPU available: False, used: False\n",
      "TPU available: False, using: 0 TPU cores\n",
      "IPU available: False, using: 0 IPUs\n"
     ]
    }
   ],
   "source": [
    "hybrid_trainer = CollieTrainer(\n",
    "    model=hybrid_model,\n",
    "    max_epochs=5,\n",
    "    logger=False,\n",
    "    checkpoint_callback=False,\n",
    "    weights_summary=None,\n",
    ")"
   ]
  },
  {
   "cell_type": "code",
   "execution_count": 20,
   "id": "51d7c2cc-b87c-44ca-92d6-8652659f4d92",
   "metadata": {},
   "outputs": [
    {
     "name": "stdout",
     "output_type": "stream",
     "text": [
      "Stage: 0\n"
     ]
    },
    {
     "data": {
      "application/vnd.jupyter.widget-view+json": {
       "model_id": "",
       "version_major": 2,
       "version_minor": 0
      },
      "text/plain": [
       "Validation sanity check: 0it [00:00, ?it/s]"
      ]
     },
     "metadata": {},
     "output_type": "display_data"
    },
    {
     "name": "stderr",
     "output_type": "stream",
     "text": [
      "Global seed set to 2021\n"
     ]
    },
    {
     "data": {
      "application/vnd.jupyter.widget-view+json": {
       "model_id": "3a65f51bed4c47c383c06d6a1ebc4e7f",
       "version_major": 2,
       "version_minor": 0
      },
      "text/plain": [
       "Training: -1it [00:00, ?it/s]"
      ]
     },
     "metadata": {},
     "output_type": "display_data"
    },
    {
     "data": {
      "application/vnd.jupyter.widget-view+json": {
       "model_id": "",
       "version_major": 2,
       "version_minor": 0
      }
     },
     "metadata": {},
     "output_type": "display_data"
    },
    {
     "data": {
      "application/vnd.jupyter.widget-view+json": {
       "model_id": "",
       "version_major": 2,
       "version_minor": 0
      }
     },
     "metadata": {},
     "output_type": "display_data"
    },
    {
     "data": {
      "application/vnd.jupyter.widget-view+json": {
       "model_id": "",
       "version_major": 2,
       "version_minor": 0
      }
     },
     "metadata": {},
     "output_type": "display_data"
    },
    {
     "data": {
      "application/vnd.jupyter.widget-view+json": {
       "model_id": "",
       "version_major": 2,
       "version_minor": 0
      }
     },
     "metadata": {},
     "output_type": "display_data"
    },
    {
     "data": {
      "application/vnd.jupyter.widget-view+json": {
       "model_id": "",
       "version_major": 2,
       "version_minor": 0
      }
     },
     "metadata": {},
     "output_type": "display_data"
    },
    {
     "data": {
      "application/vnd.jupyter.widget-view+json": {
       "model_id": "f0bff3d46fc64978ae7b8555fc3d61ff",
       "version_major": 2,
       "version_minor": 0
      },
      "text/plain": [
       "  0%|          | 0/48 [00:00<?, ?it/s]"
      ]
     },
     "metadata": {},
     "output_type": "display_data"
    },
    {
     "name": "stdout",
     "output_type": "stream",
     "text": [
      "MAP@10 Score: 0.040842806631971026\n",
      "MRR Score:    0.15537292938956282\n",
      "AUC Score:    0.9069970317200744\n",
      "========================================================================================\n",
      "Stage: 1\n",
      "Set ``self.hparams.stage`` to \"metadata_only\"\n"
     ]
    },
    {
     "data": {
      "application/vnd.jupyter.widget-view+json": {
       "model_id": "",
       "version_major": 2,
       "version_minor": 0
      },
      "text/plain": [
       "Validation sanity check: 0it [00:00, ?it/s]"
      ]
     },
     "metadata": {},
     "output_type": "display_data"
    },
    {
     "name": "stderr",
     "output_type": "stream",
     "text": [
      "Global seed set to 2021\n"
     ]
    },
    {
     "data": {
      "application/vnd.jupyter.widget-view+json": {
       "model_id": "291c89d769e5405b82620bb952c27bf4",
       "version_major": 2,
       "version_minor": 0
      },
      "text/plain": [
       "Training: 48it [00:00, ?it/s]"
      ]
     },
     "metadata": {},
     "output_type": "display_data"
    },
    {
     "data": {
      "application/vnd.jupyter.widget-view+json": {
       "model_id": "",
       "version_major": 2,
       "version_minor": 0
      }
     },
     "metadata": {},
     "output_type": "display_data"
    },
    {
     "data": {
      "application/vnd.jupyter.widget-view+json": {
       "model_id": "",
       "version_major": 2,
       "version_minor": 0
      }
     },
     "metadata": {},
     "output_type": "display_data"
    },
    {
     "data": {
      "application/vnd.jupyter.widget-view+json": {
       "model_id": "",
       "version_major": 2,
       "version_minor": 0
      }
     },
     "metadata": {},
     "output_type": "display_data"
    },
    {
     "data": {
      "application/vnd.jupyter.widget-view+json": {
       "model_id": "",
       "version_major": 2,
       "version_minor": 0
      }
     },
     "metadata": {},
     "output_type": "display_data"
    },
    {
     "data": {
      "application/vnd.jupyter.widget-view+json": {
       "model_id": "",
       "version_major": 2,
       "version_minor": 0
      }
     },
     "metadata": {},
     "output_type": "display_data"
    },
    {
     "data": {
      "application/vnd.jupyter.widget-view+json": {
       "model_id": "",
       "version_major": 2,
       "version_minor": 0
      }
     },
     "metadata": {},
     "output_type": "display_data"
    },
    {
     "data": {
      "application/vnd.jupyter.widget-view+json": {
       "model_id": "dd4d41eafe4b46b6be54537ba133254e",
       "version_major": 2,
       "version_minor": 0
      },
      "text/plain": [
       "  0%|          | 0/48 [00:00<?, ?it/s]"
      ]
     },
     "metadata": {},
     "output_type": "display_data"
    },
    {
     "name": "stdout",
     "output_type": "stream",
     "text": [
      "MAP@10 Score: 0.039398807618116836\n",
      "MRR Score:    0.16205928275349793\n",
      "AUC Score:    0.9019731417329955\n",
      "========================================================================================\n",
      "Stage: 2\n",
      "Set ``self.hparams.stage`` to \"all\"\n"
     ]
    },
    {
     "data": {
      "application/vnd.jupyter.widget-view+json": {
       "model_id": "",
       "version_major": 2,
       "version_minor": 0
      },
      "text/plain": [
       "Validation sanity check: 0it [00:00, ?it/s]"
      ]
     },
     "metadata": {},
     "output_type": "display_data"
    },
    {
     "name": "stderr",
     "output_type": "stream",
     "text": [
      "Global seed set to 2021\n"
     ]
    },
    {
     "data": {
      "application/vnd.jupyter.widget-view+json": {
       "model_id": "5455982a838b49708fe334c521a52eac",
       "version_major": 2,
       "version_minor": 0
      },
      "text/plain": [
       "Training: 48it [00:00, ?it/s]"
      ]
     },
     "metadata": {},
     "output_type": "display_data"
    },
    {
     "data": {
      "application/vnd.jupyter.widget-view+json": {
       "model_id": "",
       "version_major": 2,
       "version_minor": 0
      }
     },
     "metadata": {},
     "output_type": "display_data"
    },
    {
     "data": {
      "application/vnd.jupyter.widget-view+json": {
       "model_id": "",
       "version_major": 2,
       "version_minor": 0
      }
     },
     "metadata": {},
     "output_type": "display_data"
    },
    {
     "data": {
      "application/vnd.jupyter.widget-view+json": {
       "model_id": "",
       "version_major": 2,
       "version_minor": 0
      }
     },
     "metadata": {},
     "output_type": "display_data"
    },
    {
     "data": {
      "application/vnd.jupyter.widget-view+json": {
       "model_id": "",
       "version_major": 2,
       "version_minor": 0
      }
     },
     "metadata": {},
     "output_type": "display_data"
    },
    {
     "data": {
      "application/vnd.jupyter.widget-view+json": {
       "model_id": "",
       "version_major": 2,
       "version_minor": 0
      }
     },
     "metadata": {},
     "output_type": "display_data"
    },
    {
     "data": {
      "application/vnd.jupyter.widget-view+json": {
       "model_id": "",
       "version_major": 2,
       "version_minor": 0
      }
     },
     "metadata": {},
     "output_type": "display_data"
    },
    {
     "data": {
      "application/vnd.jupyter.widget-view+json": {
       "model_id": "00248022122d4f628c48f6ccedcc033d",
       "version_major": 2,
       "version_minor": 0
      },
      "text/plain": [
       "  0%|          | 0/48 [00:00<?, ?it/s]"
      ]
     },
     "metadata": {},
     "output_type": "display_data"
    },
    {
     "name": "stdout",
     "output_type": "stream",
     "text": [
      "MAP@10 Score: 0.0391707965033147\n",
      "MRR Score:    0.161514215044788\n",
      "AUC Score:    0.9031718420121827\n",
      "========================================================================================\n"
     ]
    }
   ],
   "source": [
    "hybrid_model = train_multi_stage_model(hybrid_model, hybrid_trainer, val_interactions, n_stages=3)"
   ]
  },
  {
   "cell_type": "code",
   "execution_count": 21,
   "id": "1866805d-e9d3-4660-a4bb-e948e43ece84",
   "metadata": {},
   "outputs": [
    {
     "data": {
      "text/html": [
       "<h3>User 100:</h3><table border=\"1\" class=\"dataframe\">\n",
       "  <thead>\n",
       "    <tr style=\"text-align: right;\">\n",
       "      <th></th>\n",
       "      <th>Liar Liar (1997)</th>\n",
       "      <th>Wag the Dog (1997)</th>\n",
       "      <th>Good Will Hunting (1997)</th>\n",
       "      <th>Seven Years in Tibet (1997)</th>\n",
       "      <th>Contact (1997)</th>\n",
       "      <th>Titanic (1997)</th>\n",
       "      <th>Peacemaker, The (1997)</th>\n",
       "      <th>Big Bang Theory, The (1994)</th>\n",
       "      <th>Amistad (1997)</th>\n",
       "      <th>Apostle, The (1997)</th>\n",
       "    </tr>\n",
       "  </thead>\n",
       "  <tbody>\n",
       "    <tr>\n",
       "      <th>Some loved films:</th>\n",
       "      <td><img src=\"https://m.media-amazon.com/images/M/MV5BYjZlYmJjYWYtZDM0NS00YmZlLWIyMTAtMDY5ZTNjZTgwMDhjXkEyXkFqcGdeQXVyMTQxNzMzNDI@.jpg\" width=500></td>\n",
       "      <td><img src=\"https://m.media-amazon.com/images/M/MV5BMzRkZDVkMDItYjk3Mi00NDkyLThmODUtYzhkN2EwZmE2ZTljXkEyXkFqcGdeQXVyMTQxNzMzNDI@.jpg\" width=500></td>\n",
       "      <td><img src=\"https://m.media-amazon.com/images/M/MV5BOTI0MzcxMTYtZDVkMy00NjY1LTgyMTYtZmUxN2M3NmQ2NWJhXkEyXkFqcGdeQXVyMTQxNzMzNDI@.jpg\" width=500></td>\n",
       "      <td><img src=\"https://m.media-amazon.com/images/M/MV5BYmM4ZDhhNmItMDEyZi00NDUyLTk3MzUtMzE5NTE1ZWM0N2UyXkEyXkFqcGdeQXVyNjUwNzk3NDc@.jpg\" width=500></td>\n",
       "      <td><img src=\"https://m.media-amazon.com/images/M/MV5BYWNkYmFiZjUtYmI3Ni00NzIwLTkxZjktN2ZkMjdhMzlkMDc3XkEyXkFqcGdeQXVyNDk3NzU2MTQ@.jpg\" width=500></td>\n",
       "      <td><img src=\"https://m.media-amazon.com/images/M/MV5BMDdmZGU3NDQtY2E5My00ZTliLWIzOTUtMTY4ZGI1YjdiNjk3XkEyXkFqcGdeQXVyNTA4NzY1MzY@.jpg\" width=500></td>\n",
       "      <td><img src=\"https://m.media-amazon.com/images/M/MV5BMjQ0OTNjOTMtYWU1MC00MWQwLTllMmMtNWZmYmE3NDY0ZTgxXkEyXkFqcGdeQXVyMTE2OTg4Mjg@.jpg\" width=500></td>\n",
       "      <td><img src=\"https://m.media-amazon.com/images/M/MV5BY2FmZTY5YTktOWRlYy00NmIyLWE0ZmQtZDg2YjlmMzczZDZiXkEyXkFqcGdeQXVyNjg4NzAyOTA@.jpg\" width=500></td>\n",
       "      <td><img src=\"https://m.media-amazon.com/images/M/MV5BODFmYjRmMmItMzA1OS00YTJmLTlmZTItYzI4NjAzNzMzYjc5XkEyXkFqcGdeQXVyNTUyMzE4Mzg@.jpg\" width=500></td>\n",
       "      <td><img src=\"https://m.media-amazon.com/images/M/MV5BNGRkMDZlNGUtMzVmMC00Y2UyLTg0YTYtMjAzZmQ2NmQyNjg1XkEyXkFqcGdeQXVyMTAwMzUyOTc@.jpg\" width=500></td>\n",
       "    </tr>\n",
       "  </tbody>\n",
       "</table><table border=\"1\" class=\"dataframe\">\n",
       "  <thead>\n",
       "    <tr style=\"text-align: right;\">\n",
       "      <th></th>\n",
       "      <th>English Patient, The (1996)</th>\n",
       "      <th>Scream (1996)</th>\n",
       "      <th>Fargo (1996)</th>\n",
       "      <th>Jerry Maguire (1996)</th>\n",
       "      <th>Leaving Las Vegas (1995)</th>\n",
       "      <th>Boogie Nights (1997)</th>\n",
       "      <th>Kiss the Girls (1997)</th>\n",
       "      <th>Evita (1996)</th>\n",
       "      <th>Rainmaker, The (1997)</th>\n",
       "      <th>Godfather, The (1972)</th>\n",
       "    </tr>\n",
       "  </thead>\n",
       "  <tbody>\n",
       "    <tr>\n",
       "      <th>Recommended films:</th>\n",
       "      <td><img src=\"https://m.media-amazon.com/images/M/MV5BOTkxZTdkNTQtM2QwOS00NzRlLWEyMGItYTcxOTE4NTgyNGVhXkEyXkFqcGdeQXVyMTQxNzMzNDI@.jpg\" width=500></td>\n",
       "      <td><img src=\"https://m.media-amazon.com/images/M/MV5BMjA2NjU5MTg5OF5BMl5BanBnXkFtZTgwOTkyMzQxMDE@.jpg\" width=500></td>\n",
       "      <td><img src=\"https://m.media-amazon.com/images/M/MV5BNDJiZDgyZjctYmRjMS00ZjdkLTkwMTEtNGU1NDg3NDQ0Yzk1XkEyXkFqcGdeQXVyNzkwMjQ5NzM@.jpg\" width=500></td>\n",
       "      <td><img src=\"https://m.media-amazon.com/images/M/MV5BYTM0ZWNmZTUtOTVkZS00MTZiLTg3M2QtZjA0Y2RmOWM1NWEyXkEyXkFqcGdeQXVyNjU0OTQ0OTY@.jpg\" width=500></td>\n",
       "      <td><img src=\"https://m.media-amazon.com/images/M/MV5BNDg3MDM5NTI0MF5BMl5BanBnXkFtZTcwNDY0NDk0NA@@.jpg\" width=500></td>\n",
       "      <td><img src=\"https://m.media-amazon.com/images/M/MV5BY2E2YWYxY2QtZmJmZi00MjJlLWFiYWItZTk5Y2IyMWQ1ZThhXkEyXkFqcGdeQXVyMTMxODk2OTU@.jpg\" width=500></td>\n",
       "      <td><img src=\"https://m.media-amazon.com/images/M/MV5BMjE2MWE1ZDYtNjNkYS00YjZmLWJkZjctOTYzYTVjMDFiN2M5XkEyXkFqcGdeQXVyMTQxNzMzNDI@.jpg\" width=500></td>\n",
       "      <td><img src=\"https://m.media-amazon.com/images/M/MV5BMDNhZGZiMzYtNzkxNy00MGE0LWE4Y2QtOGIwOTM3ZmY5M2QwXkEyXkFqcGdeQXVyNzc5MjA3OA@@.jpg\" width=500></td>\n",
       "      <td><img src=\"https://m.media-amazon.com/images/M/MV5BMjdlMjI2ZjgtN2ViOS00ZmI0LWE0ZTMtZjg1ZjczYWYzOGZjL2ltYWdlL2ltYWdlXkEyXkFqcGdeQXVyNjc1NTYyMjg@.jpg\" width=500></td>\n",
       "      <td><img src=\"https://m.media-amazon.com/images/M/MV5BM2MyNjYxNmUtYTAwNi00MTYxLWJmNWYtYzZlODY3ZTk3OTFlXkEyXkFqcGdeQXVyNzkwMjQ5NzM@.jpg\" width=500></td>\n",
       "    </tr>\n",
       "  </tbody>\n",
       "</table>-----<p style=\"margin:0\">User 100 has rated <strong>22</strong> films with a 4 or 5</p><p style=\"margin:0\">User 100 has rated <strong>37</strong> films with a 1, 2, or 3</p><p style=\"margin:0\">% of these films rated 5 or 4 appearing in the first 10 recommendations:<strong style=\"color:green\">60.0%</strong></p><p style=\"margin:0\">% of these films rated 1, 2, or 3 appearing in the first 10 recommendations: <strong style=\"color:red\">20.0%</strong></p>"
      ],
      "text/plain": [
       "<IPython.core.display.HTML object>"
      ]
     },
     "metadata": {},
     "output_type": "display_data"
    }
   ],
   "source": [
    "parameters = {\"model\": hybrid_model, \"user_id\": user_id, \"filter_films\": True, \"shuffle\": True, \"detailed\": True}\n",
    "display(HTML(get_recommendation_visualizations(**parameters)))"
   ]
  },
  {
   "cell_type": "markdown",
   "id": "493159b4-6229-4065-981a-7c1346052c4b",
   "metadata": {},
   "source": [
    "#### read item metadata needed for Hybrid Model similar item prediction"
   ]
  },
  {
   "cell_type": "code",
   "execution_count": 22,
   "id": "3b028f5d-a341-4fc2-9593-f51f10d9bbbc",
   "metadata": {},
   "outputs": [],
   "source": [
    "df_item = read_movielens_df_item()\n",
    "df_item[\"item_id\"] -= 1"
   ]
  },
  {
   "cell_type": "code",
   "execution_count": 23,
   "id": "08eb2303-1836-411f-9d52-e935967ff6b3",
   "metadata": {},
   "outputs": [
    {
     "data": {
      "text/html": [
       "<div>\n",
       "<style scoped>\n",
       "    .dataframe tbody tr th:only-of-type {\n",
       "        vertical-align: middle;\n",
       "    }\n",
       "\n",
       "    .dataframe tbody tr th {\n",
       "        vertical-align: top;\n",
       "    }\n",
       "\n",
       "    .dataframe thead th {\n",
       "        text-align: right;\n",
       "    }\n",
       "</style>\n",
       "<table border=\"1\" class=\"dataframe\">\n",
       "  <thead>\n",
       "    <tr style=\"text-align: right;\">\n",
       "      <th></th>\n",
       "      <th>item_id</th>\n",
       "      <th>movie_title</th>\n",
       "      <th>release_date</th>\n",
       "      <th>IMDb_URL</th>\n",
       "      <th>unknown</th>\n",
       "      <th>Action</th>\n",
       "      <th>Adventure</th>\n",
       "      <th>Animation</th>\n",
       "      <th>Children</th>\n",
       "      <th>Comedy</th>\n",
       "      <th>...</th>\n",
       "      <th>Fantasy</th>\n",
       "      <th>Film_Noir</th>\n",
       "      <th>Horror</th>\n",
       "      <th>Musical</th>\n",
       "      <th>Mystery</th>\n",
       "      <th>Romance</th>\n",
       "      <th>Sci_Fi</th>\n",
       "      <th>Thriller</th>\n",
       "      <th>War</th>\n",
       "      <th>Western</th>\n",
       "    </tr>\n",
       "  </thead>\n",
       "  <tbody>\n",
       "    <tr>\n",
       "      <th>1000</th>\n",
       "      <td>1000</td>\n",
       "      <td>Stupids, The (1996)</td>\n",
       "      <td>1996-08-30</td>\n",
       "      <td>http://us.imdb.com/M/title-exact?Stupids,%20Th...</td>\n",
       "      <td>0</td>\n",
       "      <td>0</td>\n",
       "      <td>0</td>\n",
       "      <td>0</td>\n",
       "      <td>0</td>\n",
       "      <td>1</td>\n",
       "      <td>...</td>\n",
       "      <td>0</td>\n",
       "      <td>0</td>\n",
       "      <td>0</td>\n",
       "      <td>0</td>\n",
       "      <td>0</td>\n",
       "      <td>0</td>\n",
       "      <td>0</td>\n",
       "      <td>0</td>\n",
       "      <td>0</td>\n",
       "      <td>0</td>\n",
       "    </tr>\n",
       "  </tbody>\n",
       "</table>\n",
       "<p>1 rows × 23 columns</p>\n",
       "</div>"
      ],
      "text/plain": [
       "      item_id          movie_title release_date  \\\n",
       "1000     1000  Stupids, The (1996)   1996-08-30   \n",
       "\n",
       "                                               IMDb_URL  unknown  Action  \\\n",
       "1000  http://us.imdb.com/M/title-exact?Stupids,%20Th...        0       0   \n",
       "\n",
       "      Adventure  Animation  Children  Comedy  ...  Fantasy  Film_Noir  Horror  \\\n",
       "1000          0          0         0       1  ...        0          0       0   \n",
       "\n",
       "      Musical  Mystery  Romance  Sci_Fi  Thriller  War  Western  \n",
       "1000        0        0        0       0         0    0        0  \n",
       "\n",
       "[1 rows x 23 columns]"
      ]
     },
     "execution_count": 23,
     "metadata": {},
     "output_type": "execute_result"
    }
   ],
   "source": [
    "item_id = 1000\n",
    "df_item.iloc[[item_id]]"
   ]
  },
  {
   "cell_type": "markdown",
   "id": "d161ce94-9102-4eb9-961b-1f727f2df3fb",
   "metadata": {},
   "source": [
    "#### find most similar items according to metadata"
   ]
  },
  {
   "cell_type": "code",
   "execution_count": 24,
   "id": "0d9c2079-4fae-47e5-891b-95ccee4e551b",
   "metadata": {},
   "outputs": [
    {
     "data": {
      "text/html": [
       "<div>\n",
       "<style scoped>\n",
       "    .dataframe tbody tr th:only-of-type {\n",
       "        vertical-align: middle;\n",
       "    }\n",
       "\n",
       "    .dataframe tbody tr th {\n",
       "        vertical-align: top;\n",
       "    }\n",
       "\n",
       "    .dataframe thead th {\n",
       "        text-align: right;\n",
       "    }\n",
       "</style>\n",
       "<table border=\"1\" class=\"dataframe\">\n",
       "  <thead>\n",
       "    <tr style=\"text-align: right;\">\n",
       "      <th></th>\n",
       "      <th>item_id</th>\n",
       "      <th>movie_title</th>\n",
       "      <th>release_date</th>\n",
       "      <th>IMDb_URL</th>\n",
       "      <th>unknown</th>\n",
       "      <th>Action</th>\n",
       "      <th>Adventure</th>\n",
       "      <th>Animation</th>\n",
       "      <th>Children</th>\n",
       "      <th>Comedy</th>\n",
       "      <th>...</th>\n",
       "      <th>Fantasy</th>\n",
       "      <th>Film_Noir</th>\n",
       "      <th>Horror</th>\n",
       "      <th>Musical</th>\n",
       "      <th>Mystery</th>\n",
       "      <th>Romance</th>\n",
       "      <th>Sci_Fi</th>\n",
       "      <th>Thriller</th>\n",
       "      <th>War</th>\n",
       "      <th>Western</th>\n",
       "    </tr>\n",
       "  </thead>\n",
       "  <tbody>\n",
       "    <tr>\n",
       "      <th>1000</th>\n",
       "      <td>1000</td>\n",
       "      <td>Stupids, The (1996)</td>\n",
       "      <td>1996-08-30</td>\n",
       "      <td>http://us.imdb.com/M/title-exact?Stupids,%20Th...</td>\n",
       "      <td>0</td>\n",
       "      <td>0</td>\n",
       "      <td>0</td>\n",
       "      <td>0</td>\n",
       "      <td>0</td>\n",
       "      <td>1</td>\n",
       "      <td>...</td>\n",
       "      <td>0</td>\n",
       "      <td>0</td>\n",
       "      <td>0</td>\n",
       "      <td>0</td>\n",
       "      <td>0</td>\n",
       "      <td>0</td>\n",
       "      <td>0</td>\n",
       "      <td>0</td>\n",
       "      <td>0</td>\n",
       "      <td>0</td>\n",
       "    </tr>\n",
       "    <tr>\n",
       "      <th>1087</th>\n",
       "      <td>1087</td>\n",
       "      <td>Double Team (1997)</td>\n",
       "      <td>1997-04-04</td>\n",
       "      <td>http://us.imdb.com/M/title-exact?Double%20Team...</td>\n",
       "      <td>0</td>\n",
       "      <td>1</td>\n",
       "      <td>0</td>\n",
       "      <td>0</td>\n",
       "      <td>0</td>\n",
       "      <td>0</td>\n",
       "      <td>...</td>\n",
       "      <td>0</td>\n",
       "      <td>0</td>\n",
       "      <td>0</td>\n",
       "      <td>0</td>\n",
       "      <td>0</td>\n",
       "      <td>0</td>\n",
       "      <td>0</td>\n",
       "      <td>0</td>\n",
       "      <td>0</td>\n",
       "      <td>0</td>\n",
       "    </tr>\n",
       "    <tr>\n",
       "      <th>1026</th>\n",
       "      <td>1026</td>\n",
       "      <td>Shooter, The (1995)</td>\n",
       "      <td>1995-01-01</td>\n",
       "      <td>http://us.imdb.com/M/title-exact?Shooter,%20Th...</td>\n",
       "      <td>0</td>\n",
       "      <td>1</td>\n",
       "      <td>0</td>\n",
       "      <td>0</td>\n",
       "      <td>0</td>\n",
       "      <td>0</td>\n",
       "      <td>...</td>\n",
       "      <td>0</td>\n",
       "      <td>0</td>\n",
       "      <td>0</td>\n",
       "      <td>0</td>\n",
       "      <td>0</td>\n",
       "      <td>0</td>\n",
       "      <td>0</td>\n",
       "      <td>0</td>\n",
       "      <td>0</td>\n",
       "      <td>0</td>\n",
       "    </tr>\n",
       "    <tr>\n",
       "      <th>1375</th>\n",
       "      <td>1375</td>\n",
       "      <td>Meet Wally Sparks (1997)</td>\n",
       "      <td>1997-01-31</td>\n",
       "      <td>http://us.imdb.com/M/title-exact?Meet%20Wally%...</td>\n",
       "      <td>0</td>\n",
       "      <td>0</td>\n",
       "      <td>0</td>\n",
       "      <td>0</td>\n",
       "      <td>0</td>\n",
       "      <td>1</td>\n",
       "      <td>...</td>\n",
       "      <td>0</td>\n",
       "      <td>0</td>\n",
       "      <td>0</td>\n",
       "      <td>0</td>\n",
       "      <td>0</td>\n",
       "      <td>0</td>\n",
       "      <td>0</td>\n",
       "      <td>0</td>\n",
       "      <td>0</td>\n",
       "      <td>0</td>\n",
       "    </tr>\n",
       "    <tr>\n",
       "      <th>1490</th>\n",
       "      <td>1490</td>\n",
       "      <td>Tough and Deadly (1995)</td>\n",
       "      <td>1995-01-01</td>\n",
       "      <td>http://us.imdb.com/M/title-exact?Tough%20and%2...</td>\n",
       "      <td>0</td>\n",
       "      <td>1</td>\n",
       "      <td>0</td>\n",
       "      <td>0</td>\n",
       "      <td>0</td>\n",
       "      <td>0</td>\n",
       "      <td>...</td>\n",
       "      <td>0</td>\n",
       "      <td>0</td>\n",
       "      <td>0</td>\n",
       "      <td>0</td>\n",
       "      <td>0</td>\n",
       "      <td>0</td>\n",
       "      <td>0</td>\n",
       "      <td>1</td>\n",
       "      <td>0</td>\n",
       "      <td>0</td>\n",
       "    </tr>\n",
       "  </tbody>\n",
       "</table>\n",
       "<p>5 rows × 23 columns</p>\n",
       "</div>"
      ],
      "text/plain": [
       "      item_id               movie_title release_date  \\\n",
       "1000     1000       Stupids, The (1996)   1996-08-30   \n",
       "1087     1087        Double Team (1997)   1997-04-04   \n",
       "1026     1026       Shooter, The (1995)   1995-01-01   \n",
       "1375     1375  Meet Wally Sparks (1997)   1997-01-31   \n",
       "1490     1490   Tough and Deadly (1995)   1995-01-01   \n",
       "\n",
       "                                               IMDb_URL  unknown  Action  \\\n",
       "1000  http://us.imdb.com/M/title-exact?Stupids,%20Th...        0       0   \n",
       "1087  http://us.imdb.com/M/title-exact?Double%20Team...        0       1   \n",
       "1026  http://us.imdb.com/M/title-exact?Shooter,%20Th...        0       1   \n",
       "1375  http://us.imdb.com/M/title-exact?Meet%20Wally%...        0       0   \n",
       "1490  http://us.imdb.com/M/title-exact?Tough%20and%2...        0       1   \n",
       "\n",
       "      Adventure  Animation  Children  Comedy  ...  Fantasy  Film_Noir  Horror  \\\n",
       "1000          0          0         0       1  ...        0          0       0   \n",
       "1087          0          0         0       0  ...        0          0       0   \n",
       "1026          0          0         0       0  ...        0          0       0   \n",
       "1375          0          0         0       1  ...        0          0       0   \n",
       "1490          0          0         0       0  ...        0          0       0   \n",
       "\n",
       "      Musical  Mystery  Romance  Sci_Fi  Thriller  War  Western  \n",
       "1000        0        0        0       0         0    0        0  \n",
       "1087        0        0        0       0         0    0        0  \n",
       "1026        0        0        0       0         0    0        0  \n",
       "1375        0        0        0       0         0    0        0  \n",
       "1490        0        0        0       0         1    0        0  \n",
       "\n",
       "[5 rows x 23 columns]"
      ]
     },
     "execution_count": 24,
     "metadata": {},
     "output_type": "execute_result"
    }
   ],
   "source": [
    "similar_items = hybrid_model.item_item_similarity(item_id)\n",
    "df_item.iloc[similar_items.index[:5]]"
   ]
  },
  {
   "cell_type": "markdown",
   "id": "8d0ca879-c779-443f-822d-6a783a9ad503",
   "metadata": {},
   "source": [
    "## Explicit Matrix Factorization model"
   ]
  },
  {
   "cell_type": "code",
   "execution_count": 25,
   "id": "bb1f6200-1a9e-431d-a234-1f07bfcb193a",
   "metadata": {},
   "outputs": [
    {
     "name": "stdout",
     "output_type": "stream",
     "text": [
      "Checking for and removing duplicate user, item ID pairs...\n"
     ]
    },
    {
     "data": {
      "text/plain": [
       "ExplicitInteractions object with 100000 interactions between 943 users and 1682 items, with minimum rating of 1 and maximum rating of 5."
      ]
     },
     "execution_count": 25,
     "metadata": {},
     "output_type": "execute_result"
    }
   ],
   "source": [
    "explicit_interactions = ExplicitInteractions(\n",
    "    users=df['user_id'],\n",
    "    items=df['item_id'],\n",
    "    ratings=df['rating'],\n",
    "    allow_missing_ids=True,\n",
    ")\n",
    "\n",
    "explicit_interactions"
   ]
  },
  {
   "cell_type": "code",
   "execution_count": 26,
   "id": "9da5fd11-fcff-406d-b2cd-d2c3353998d0",
   "metadata": {
    "tags": []
   },
   "outputs": [
    {
     "name": "stdout",
     "output_type": "stream",
     "text": [
      "Train: ExplicitInteractions object with 89561 interactions between 943 users and 1682 items, with minimum rating of 1 and maximum rating of 5.\n",
      "Val:   ExplicitInteractions object with 10439 interactions between 943 users and 1682 items, with minimum rating of 1 and maximum rating of 5.\n"
     ]
    }
   ],
   "source": [
    "train_explicit_interactions, val_explicit_interactions = stratified_split(explicit_interactions, test_p=0.1, seed=2021)\n",
    "print(\"Train:\", train_explicit_interactions)\n",
    "print(\"Val:  \", val_explicit_interactions)"
   ]
  },
  {
   "cell_type": "code",
   "execution_count": 27,
   "id": "9d09cc7c-ce77-47c8-bddd-6da9af91bfa6",
   "metadata": {},
   "outputs": [
    {
     "data": {
      "text/plain": [
       "MatrixFactorizationModel(\n",
       "  (loss_function): MSELoss()\n",
       "  (user_biases): ZeroEmbedding(943, 1)\n",
       "  (item_biases): ZeroEmbedding(1682, 1)\n",
       "  (user_embeddings): ScaledEmbedding(943, 10)\n",
       "  (item_embeddings): ScaledEmbedding(1682, 10)\n",
       "  (dropout): Dropout(p=0.0, inplace=False)\n",
       ")"
      ]
     },
     "execution_count": 27,
     "metadata": {},
     "output_type": "execute_result"
    }
   ],
   "source": [
    "emf_model = MatrixFactorizationModel(\n",
    "    train=train_explicit_interactions,\n",
    "    val=val_explicit_interactions,\n",
    "    embedding_dim=10,\n",
    "    lr=1e-2,\n",
    "    loss=\"mse\",\n",
    "    y_range=[1, 5],\n",
    ")\n",
    "\n",
    "emf_model"
   ]
  },
  {
   "cell_type": "code",
   "execution_count": 28,
   "id": "5e300ebc-f836-4b72-ad93-fb80efb7a7f0",
   "metadata": {},
   "outputs": [
    {
     "name": "stderr",
     "output_type": "stream",
     "text": [
      "GPU available: False, used: False\n",
      "TPU available: False, using: 0 TPU cores\n",
      "IPU available: False, using: 0 IPUs\n",
      "\n",
      "  | Name            | Type            | Params\n",
      "----------------------------------------------------\n",
      "0 | loss_function   | MSELoss         | 0     \n",
      "1 | user_biases     | ZeroEmbedding   | 943   \n",
      "2 | item_biases     | ZeroEmbedding   | 1.7 K \n",
      "3 | user_embeddings | ScaledEmbedding | 9.4 K \n",
      "4 | item_embeddings | ScaledEmbedding | 16.8 K\n",
      "5 | dropout         | Dropout         | 0     \n",
      "----------------------------------------------------\n",
      "28.9 K    Trainable params\n",
      "0         Non-trainable params\n",
      "28.9 K    Total params\n",
      "0.115     Total estimated model params size (MB)\n"
     ]
    },
    {
     "data": {
      "application/vnd.jupyter.widget-view+json": {
       "model_id": "",
       "version_major": 2,
       "version_minor": 0
      },
      "text/plain": [
       "Validation sanity check: 0it [00:00, ?it/s]"
      ]
     },
     "metadata": {},
     "output_type": "display_data"
    },
    {
     "name": "stderr",
     "output_type": "stream",
     "text": [
      "Global seed set to 2021\n"
     ]
    },
    {
     "data": {
      "application/vnd.jupyter.widget-view+json": {
       "model_id": "1a11b9d117dc4325adee6db0390c0373",
       "version_major": 2,
       "version_minor": 0
      },
      "text/plain": [
       "Training: -1it [00:00, ?it/s]"
      ]
     },
     "metadata": {},
     "output_type": "display_data"
    },
    {
     "data": {
      "application/vnd.jupyter.widget-view+json": {
       "model_id": "",
       "version_major": 2,
       "version_minor": 0
      }
     },
     "metadata": {},
     "output_type": "display_data"
    },
    {
     "data": {
      "application/vnd.jupyter.widget-view+json": {
       "model_id": "",
       "version_major": 2,
       "version_minor": 0
      }
     },
     "metadata": {},
     "output_type": "display_data"
    },
    {
     "data": {
      "application/vnd.jupyter.widget-view+json": {
       "model_id": "",
       "version_major": 2,
       "version_minor": 0
      }
     },
     "metadata": {},
     "output_type": "display_data"
    },
    {
     "data": {
      "application/vnd.jupyter.widget-view+json": {
       "model_id": "",
       "version_major": 2,
       "version_minor": 0
      }
     },
     "metadata": {},
     "output_type": "display_data"
    },
    {
     "data": {
      "application/vnd.jupyter.widget-view+json": {
       "model_id": "",
       "version_major": 2,
       "version_minor": 0
      }
     },
     "metadata": {},
     "output_type": "display_data"
    },
    {
     "name": "stdout",
     "output_type": "stream",
     "text": [
      "Epoch     5: reducing learning rate of group 0 to 1.0000e-03.\n",
      "Epoch     5: reducing learning rate of group 0 to 1.0000e-03.\n"
     ]
    }
   ],
   "source": [
    "emf_trainer = CollieTrainer(emf_model, max_epochs=5, deterministic=True)\n",
    "emf_trainer.fit(emf_model)"
   ]
  },
  {
   "cell_type": "code",
   "execution_count": 29,
   "id": "7f1fcc75-bf99-4d00-928c-f8a153300d29",
   "metadata": {},
   "outputs": [
    {
     "name": "stdout",
     "output_type": "stream",
     "text": [
      "MSE: 0.8832836151123047\n",
      "MAE: 0.7385846972465515\n"
     ]
    }
   ],
   "source": [
    "mse_score, mae_score = evaluate_explicit(\n",
    "    emf_model, val_explicit_interactions, [torchmetrics.MeanSquaredError(), torchmetrics.MeanAbsoluteError()])\n",
    "print(f\"MSE: {mse_score}\")\n",
    "print(f\"MAE: {mae_score}\")"
   ]
  },
  {
   "cell_type": "code",
   "execution_count": 30,
   "id": "b5f51ba8-b03a-47c5-a923-4b86766e1514",
   "metadata": {},
   "outputs": [
    {
     "data": {
      "text/html": [
       "<h3>User 100:</h3><table border=\"1\" class=\"dataframe\">\n",
       "  <thead>\n",
       "    <tr style=\"text-align: right;\">\n",
       "      <th></th>\n",
       "      <th>Liar Liar (1997)</th>\n",
       "      <th>Wag the Dog (1997)</th>\n",
       "      <th>Good Will Hunting (1997)</th>\n",
       "      <th>Seven Years in Tibet (1997)</th>\n",
       "      <th>Contact (1997)</th>\n",
       "      <th>Titanic (1997)</th>\n",
       "      <th>Peacemaker, The (1997)</th>\n",
       "      <th>Big Bang Theory, The (1994)</th>\n",
       "      <th>Amistad (1997)</th>\n",
       "      <th>Apostle, The (1997)</th>\n",
       "    </tr>\n",
       "  </thead>\n",
       "  <tbody>\n",
       "    <tr>\n",
       "      <th>Some loved films:</th>\n",
       "      <td><img src=\"https://m.media-amazon.com/images/M/MV5BYjZlYmJjYWYtZDM0NS00YmZlLWIyMTAtMDY5ZTNjZTgwMDhjXkEyXkFqcGdeQXVyMTQxNzMzNDI@.jpg\" width=500></td>\n",
       "      <td><img src=\"https://m.media-amazon.com/images/M/MV5BMzRkZDVkMDItYjk3Mi00NDkyLThmODUtYzhkN2EwZmE2ZTljXkEyXkFqcGdeQXVyMTQxNzMzNDI@.jpg\" width=500></td>\n",
       "      <td><img src=\"https://m.media-amazon.com/images/M/MV5BOTI0MzcxMTYtZDVkMy00NjY1LTgyMTYtZmUxN2M3NmQ2NWJhXkEyXkFqcGdeQXVyMTQxNzMzNDI@.jpg\" width=500></td>\n",
       "      <td><img src=\"https://m.media-amazon.com/images/M/MV5BYmM4ZDhhNmItMDEyZi00NDUyLTk3MzUtMzE5NTE1ZWM0N2UyXkEyXkFqcGdeQXVyNjUwNzk3NDc@.jpg\" width=500></td>\n",
       "      <td><img src=\"https://m.media-amazon.com/images/M/MV5BYWNkYmFiZjUtYmI3Ni00NzIwLTkxZjktN2ZkMjdhMzlkMDc3XkEyXkFqcGdeQXVyNDk3NzU2MTQ@.jpg\" width=500></td>\n",
       "      <td><img src=\"https://m.media-amazon.com/images/M/MV5BMDdmZGU3NDQtY2E5My00ZTliLWIzOTUtMTY4ZGI1YjdiNjk3XkEyXkFqcGdeQXVyNTA4NzY1MzY@.jpg\" width=500></td>\n",
       "      <td><img src=\"https://m.media-amazon.com/images/M/MV5BMjQ0OTNjOTMtYWU1MC00MWQwLTllMmMtNWZmYmE3NDY0ZTgxXkEyXkFqcGdeQXVyMTE2OTg4Mjg@.jpg\" width=500></td>\n",
       "      <td><img src=\"https://m.media-amazon.com/images/M/MV5BY2FmZTY5YTktOWRlYy00NmIyLWE0ZmQtZDg2YjlmMzczZDZiXkEyXkFqcGdeQXVyNjg4NzAyOTA@.jpg\" width=500></td>\n",
       "      <td><img src=\"https://m.media-amazon.com/images/M/MV5BODFmYjRmMmItMzA1OS00YTJmLTlmZTItYzI4NjAzNzMzYjc5XkEyXkFqcGdeQXVyNTUyMzE4Mzg@.jpg\" width=500></td>\n",
       "      <td><img src=\"https://m.media-amazon.com/images/M/MV5BNGRkMDZlNGUtMzVmMC00Y2UyLTg0YTYtMjAzZmQ2NmQyNjg1XkEyXkFqcGdeQXVyMTAwMzUyOTc@.jpg\" width=500></td>\n",
       "    </tr>\n",
       "  </tbody>\n",
       "</table><table border=\"1\" class=\"dataframe\">\n",
       "  <thead>\n",
       "    <tr style=\"text-align: right;\">\n",
       "      <th></th>\n",
       "      <th>Braveheart (1995)</th>\n",
       "      <th>Shawshank Redemption, The (1994)</th>\n",
       "      <th>It's a Wonderful Life (1946)</th>\n",
       "      <th>Schindler's List (1993)</th>\n",
       "      <th>Star Wars (1977)</th>\n",
       "      <th>Backbeat (1993)</th>\n",
       "      <th>Priest (1994)</th>\n",
       "      <th>Raiders of the Lost Ark (1981)</th>\n",
       "      <th>Gaslight (1944)</th>\n",
       "      <th>Mr. Holland's Opus (1995)</th>\n",
       "    </tr>\n",
       "  </thead>\n",
       "  <tbody>\n",
       "    <tr>\n",
       "      <th>Recommended films:</th>\n",
       "      <td><img src=\"https://m.media-amazon.com/images/M/MV5BMzkzMmU0YTYtOWM3My00YzBmLWI0YzctOGYyNTkwMWE5MTJkXkEyXkFqcGdeQXVyNzkwMjQ5NzM@.jpg\" width=500></td>\n",
       "      <td><img src=\"https://m.media-amazon.com/images/M/MV5BMDFkYTc0MGEtZmNhMC00ZDIzLWFmNTEtODM1ZmRlYWMwMWFmXkEyXkFqcGdeQXVyMTMxODk2OTU@.jpg\" width=500></td>\n",
       "      <td><img src=\"https://m.media-amazon.com/images/M/MV5BZjc4NDZhZWMtNGEzYS00ZWU2LThlM2ItNTA0YzQ0OTExMTE2XkEyXkFqcGdeQXVyNjUwMzI2NzU@.jpg\" width=500></td>\n",
       "      <td><img src=\"https://m.media-amazon.com/images/M/MV5BNDE4OTMxMTctNmRhYy00NWE2LTg3YzItYTk3M2UwOTU5Njg4XkEyXkFqcGdeQXVyNjU0OTQ0OTY@.jpg\" width=500></td>\n",
       "      <td><img src=\"https://m.media-amazon.com/images/M/MV5BNzVlY2MwMjktM2E4OS00Y2Y3LWE3ZjctYzhkZGM3YzA1ZWM2XkEyXkFqcGdeQXVyNzkwMjQ5NzM@.jpg\" width=500></td>\n",
       "      <td><img src=\"https://m.media-amazon.com/images/M/MV5BMTQxMzAxNjkxNl5BMl5BanBnXkFtZTcwODEzOTUyMQ@@.jpg\" width=500></td>\n",
       "      <td><img src=\"https://m.media-amazon.com/images/M/MV5BYzAyYzQ0ODQtNzNhMi00NWVkLTk1YTItODE4Y2U4YmE0NDgzXkEyXkFqcGdeQXVyMTQxNzMzNDI@.jpg\" width=500></td>\n",
       "      <td><img src=\"https://m.media-amazon.com/images/M/MV5BMjA0ODEzMTc1Nl5BMl5BanBnXkFtZTcwODM2MjAxNA@@.jpg\" width=500></td>\n",
       "      <td><img src=\"https://m.media-amazon.com/images/M/MV5BNTI0Y2Q1YjAtZTJhOS00NTZjLTk5ZWItNzJiMTM1NGVjZThlL2ltYWdlXkEyXkFqcGdeQXVyNjc1NTYyMjg@.jpg\" width=500></td>\n",
       "      <td><img src=\"https://m.media-amazon.com/images/M/MV5BZDZhNDRlZjAtYzdhNy00ZjU1LWFlMDYtNjA5NjliM2Y5ZmVjL2ltYWdlXkEyXkFqcGdeQXVyNjE5MjUyOTM@.jpg\" width=500></td>\n",
       "    </tr>\n",
       "  </tbody>\n",
       "</table>-----<p style=\"margin:0\">User 100 has rated <strong>22</strong> films with a 4 or 5</p><p style=\"margin:0\">User 100 has rated <strong>37</strong> films with a 1, 2, or 3</p><p style=\"margin:0\">% of these films rated 5 or 4 appearing in the first 10 recommendations:<strong style=\"color:green\">20.0%</strong></p><p style=\"margin:0\">% of these films rated 1, 2, or 3 appearing in the first 10 recommendations: <strong style=\"color:red\">0.0%</strong></p>"
      ],
      "text/plain": [
       "<IPython.core.display.HTML object>"
      ]
     },
     "metadata": {},
     "output_type": "display_data"
    }
   ],
   "source": [
    "parameters = {\"model\": emf_model, \"user_id\": user_id, \"filter_films\": True, \"shuffle\": True, \"detailed\": True}\n",
    "display(HTML(get_recommendation_visualizations(**parameters)))"
   ]
  },
  {
   "cell_type": "code",
   "execution_count": 31,
   "id": "9ab889df-d426-4fb9-9cfb-f971b5956077",
   "metadata": {},
   "outputs": [],
   "source": []
  }
 ],
 "metadata": {
  "kernelspec": {
   "display_name": "Python 3 (ipykernel)",
   "language": "python",
   "name": "python3"
  },
  "language_info": {
   "codemirror_mode": {
    "name": "ipython",
    "version": 3
   },
   "file_extension": ".py",
   "mimetype": "text/x-python",
   "name": "python",
   "nbconvert_exporter": "python",
   "pygments_lexer": "ipython3",
   "version": "3.9.6"
  }
 },
 "nbformat": 4,
 "nbformat_minor": 5
}
